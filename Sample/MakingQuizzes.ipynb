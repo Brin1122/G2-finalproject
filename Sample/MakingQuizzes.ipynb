{
  "nbformat": 4,
  "nbformat_minor": 0,
  "metadata": {
    "colab": {
      "private_outputs": true,
      "provenance": [],
      "include_colab_link": true
    },
    "kernelspec": {
      "name": "python3",
      "display_name": "Python 3"
    },
    "language_info": {
      "name": "python"
    }
  },
  "cells": [
    {
      "cell_type": "markdown",
      "metadata": {
        "id": "view-in-github",
        "colab_type": "text"
      },
      "source": [
        "<a href=\"https://colab.research.google.com/github/Brin1122/G2-finalproject/blob/main/Sample/MakingQuizzes.ipynb\" target=\"_parent\"><img src=\"https://colab.research.google.com/assets/colab-badge.svg\" alt=\"Open In Colab\"/></a>"
      ]
    },
    {
      "cell_type": "markdown",
      "source": [
        "# Making a quiz\n",
        "\n",
        "1. Comprehension test with multiple options\n",
        "2. Cloze questions"
      ],
      "metadata": {
        "id": "YgX9lxahqumO"
      }
    },
    {
      "cell_type": "markdown",
      "source": [
        "# Comprehension test with multiple options\n",
        "\n",
        "[text sample]()"
      ],
      "metadata": {
        "id": "vsJeOGtTq2bR"
      }
    },
    {
      "cell_type": "code",
      "execution_count": null,
      "metadata": {
        "id": "W0YtS7FLqrSe"
      },
      "outputs": [],
      "source": [
        "%%capture\n",
        "!pip install gradio"
      ]
    },
    {
      "cell_type": "code",
      "source": [
        "import gradio as gr\n",
        "import requests\n",
        "\n",
        "# 외부 URL에서 텍스트 가져오기\n",
        "url = \"https://raw.githubusercontent.com/MK316/Spring2024/main/DLTESOL/project/story02.txt\"\n",
        "story = requests.get(url).text\n",
        "\n",
        "# 퀴즈 질문 정의\n",
        "questions = [\n",
        "    {\"question\": \"1. Nestled among towering peaks, the village was said ______ by the 'Guardian of the Glen,' a massive eagle that supposedly watched over the villagers from its perch high in the mountains.\", \"options\": [\"to protect\", \" to be protected\", \"to being protected\"], \"answer\": \"to be protected\"},\n",
        "    {\"question\": \"2. He had a particular fascination with the old maps and tales of hidden treasures that ______ in the mountains centuries ago.\", \"options\": [\"had been lost\", \"had lost\", \"had being lost\"], \"answer\": \"had been lost\"},\n",
        "    {\"question\": \"3. What did John suggest to bring on their adventure?\", \"options\": [\"Flashlights, ropes, and sandwiches\", \"Water, food, and a tent\", \"Maps, books, and a compass\"], \"answer\": \"Flashlights, ropes, and sandwiches\"},\n",
        "    {\"question\": \"4. Which path did Mary want to explore?\", \"options\": [\"The left path\", \"The right path\", \"The path back home\"], \"answer\": \"The right path\"},\n",
        "    {\"question\": \"5. What did they find in the small chamber?\", \"options\": [\"A chest filled with gold\", \"A pool of crystal-clear water with gems\", \"A secret door\"], \"answer\": \"A pool of crystal-clear water with gems\"},\n",
        "    {\"question\": \"6. What was in the hidden drawer?\", \"options\": [\"Gold and jewels\", \"Ancient coins and a pirate's compass\", \"A map and a key\"], \"answer\": \"Ancient coins and a pirate's compass\"},\n",
        "    {\"question\": \"7. What did the whispering voice say?\", \"options\": [\"Brave hearts, true and bold, lift the darkness, reveal the gold\", \"Follow the light to find the treasure\", \"The treasure lies in the journey\"], \"answer\": \"Brave hearts, true and bold, lift the darkness, reveal the gold\"},\n",
        "    {\"question\": \"8. What did Mary and John decide about the treasure?\", \"options\": [\"They took it home\", \"They left it for the next adventurers\", \"They hid it again\"], \"answer\": \"They left it for the next adventurers\"}\n",
        "]\n",
        "\n",
        "# 퀴즈 함수\n",
        "def quiz(*answers):\n",
        "    score = 0\n",
        "    incorrect = []\n",
        "    for i, question in enumerate(questions):\n",
        "        if answers[i] == question[\"answer\"]:\n",
        "            score += 1\n",
        "        else:\n",
        "            incorrect.append(f\"Question {i+1}: Correct answer is {question['answer']}\")\n",
        "    results = \"\\n\".join(incorrect)\n",
        "    return score, results\n",
        "\n",
        "# Gradio 인터페이스 설정\n",
        "story_display = gr.Markdown(story)\n",
        "inputs = [gr.Radio(label=q[\"question\"], choices=q[\"options\"], type=\"value\") for q in questions]\n",
        "outputs = [gr.Textbox(label=\"Score\"), gr.Textbox(label=\"Incorrect Answers\")]\n",
        "\n",
        "iface = gr.Interface(\n",
        "    fn=quiz,\n",
        "    inputs=inputs,\n",
        "    outputs=outputs,\n",
        "    description=\"Comprehension Quiz for 'The Guardian's Secret'\",\n",
        "    title=\"The Guardian's Secret Quiz\",\n",
        "    theme=\"default\",\n",
        "    allow_flagging=\"never\"\n",
        ")\n",
        "\n",
        "iface.launch(share=True)\n"
      ],
      "metadata": {
        "id": "pBLLjYIXyCD_"
      },
      "execution_count": null,
      "outputs": []
    },
    {
      "cell_type": "markdown",
      "source": [
        "# Cloze questions\n",
        "\n",
        "Example: 10 questions to learn verb tense and aspect"
      ],
      "metadata": {
        "id": "0C-Arfbsufj7"
      }
    },
    {
      "cell_type": "code",
      "source": [
        "import gradio as gr\n",
        "\n",
        "# The story \"The Cave of Whispers\" with blanks for cloze questions\n",
        "story = \"https://raw.githubusercontent.com/MK316/Spring2024/main/Sample/storysample.txt\"\n",
        "\n",
        "# Cloze questions\n",
        "cloze_questions = [\n",
        "    {\"question\": \"Once upon a time in the small town of Windale, two adventurous friends, Mary and John, ______ (stumble) upon an old map in John’s attic.\", \"answer\": \"stumbled\"},\n",
        "    {\"question\": \"The map was dusty and the edges ______ (fray), but it clearly marked a trail leading to the mysterious Cave of Whispers.\", \"answer\": \"were frayed\"},\n",
        "    {\"question\": \"Mary, with her wild, curly hair and eyes full of mischief, was the first ______ (propose) an adventure.\", \"answer\": \"to propose\"},\n",
        "    {\"question\": \"John, more cautious but unable to resist a challenge, ______ (agree).\", \"answer\": \"agreed\"},\n",
        "    {\"question\": \"The next morning, armed with their backpacks and an unstoppable curiosity, Mary and John ______ (set) out.\", \"answer\": \"set\"},\n",
        "    {\"question\": \"As they ______ (approach), the air grew cooler and the light dimmed, shadowed by the towering trees.\", \"answer\": \"approached\"},\n",
        "    {\"question\": \"Finally, they found it—a gaping entrance in the hillside, partially ______ (hide) by moss and ivy.\", \"answer\": \"hidden\"},\n",
        "    {\"question\": \"The cave seemed to respond, the floor ______ (shift) slightly under their feet, revealing a small, hidden drawer.\", \"answer\": \"shifting\"},\n",
        "    {\"question\": \"Inside, they found a chest filled not with gold, but with an assortment of strange, ancient coins and a perfectly ______ (preserve) pirate's compass.\", \"answer\": \"preserved\"},\n",
        "    {\"question\": \"Mary looked over at John and said, “Let’s keep ______ (explore), there’s so much more out there.”\", \"answer\": \"exploring\"},\n",
        "]\n",
        "\n",
        "# Function to handle the cloze quiz\n",
        "def cloze_quiz(name, *answers):\n",
        "    score = 0\n",
        "    results = []\n",
        "    for i, question in enumerate(cloze_questions):\n",
        "        if answers[i].strip().lower() == question[\"answer\"].lower():\n",
        "            score += 1\n",
        "            results.append(f\"Question {i+1}: Correct\\n\")\n",
        "        else:\n",
        "            results.append(f\"Question {i+1}: Incorrect, the correct answer is: {question['answer']}\\n\")\n",
        "    result_text = f\"* Name: {name}\\n* Score: {score} out of {len(cloze_questions)}\\n\" + \"\\n\".join(results)\n",
        "\n",
        "    return result_text\n",
        "\n",
        "# Add the input for the name\n",
        "inputs = [gr.Textbox(label=\"Enter your name\")] + [gr.Textbox(label=q[\"question\"]) for q in cloze_questions]\n",
        "outputs = [gr.Textbox(label=\"Results\")]\n",
        "\n",
        "iface = gr.Interface(fn=cloze_quiz, inputs=inputs, outputs=outputs, description=\"Cloze Quiz for 'The Cave of Whispers'\")\n",
        "iface.launch(share=True)\n"
      ],
      "metadata": {
        "id": "ulAuZ0FZu5fs"
      },
      "execution_count": null,
      "outputs": []
    }
  ]
}