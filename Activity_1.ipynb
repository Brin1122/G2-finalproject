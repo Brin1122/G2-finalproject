{
  "nbformat": 4,
  "nbformat_minor": 0,
  "metadata": {
    "colab": {
      "provenance": [],
      "authorship_tag": "ABX9TyNS/g7axl51JAKW5NmgO+J4",
      "include_colab_link": true
    },
    "kernelspec": {
      "name": "python3",
      "display_name": "Python 3"
    },
    "language_info": {
      "name": "python"
    }
  },
  "cells": [
    {
      "cell_type": "markdown",
      "metadata": {
        "id": "view-in-github",
        "colab_type": "text"
      },
      "source": [
        "<a href=\"https://colab.research.google.com/github/Brin1122/G2-finalproject/blob/main/Activity_1.ipynb\" target=\"_parent\"><img src=\"https://colab.research.google.com/assets/colab-badge.svg\" alt=\"Open In Colab\"/></a>"
      ]
    },
    {
      "cell_type": "code",
      "source": [
        "%%capture\n",
        "!pip install gradio"
      ],
      "metadata": {
        "id": "dXk-yPjxsAB_"
      },
      "execution_count": 2,
      "outputs": []
    },
    {
      "cell_type": "code",
      "source": [
        "import gradio as gr\n",
        "\n",
        "# 단어와 뜻, 예제를 저장하는 딕셔너리\n",
        "dictionary = {\n",
        "    \"nestled\": {\n",
        "        \"meaning\": \"Settled comfortably or cozily.\",\n",
        "        \"example\": \"The cabin was nestled in the valley.\"\n",
        "    },\n",
        "    \"towering\": {\n",
        "        \"meaning\": \"Very tall or high.\",\n",
        "        \"example\": \"The towering skyscrapers dominated the city skyline.\"\n",
        "    },\n",
        "    \"guardian\": {\n",
        "        \"meaning\": \"Someone or something that protects.\",\n",
        "        \"example\": \"The dog was the guardian of the house.\"\n",
        "    },\n",
        "    \"perch\": {\n",
        "        \"meaning\": \"A high or elevated position.\",\n",
        "        \"example\": \"The bird sat on its perch, looking out over the field.\"\n",
        "    },\n",
        "    \"supposedly\": {\n",
        "        \"meaning\": \"According to what is generally assumed or believed.\",\n",
        "        \"example\": \"Supposedly, this path leads to the hidden cave.\"\n",
        "    },\n",
        "    \"adventurous\": {\n",
        "        \"meaning\": \"Willing to take risks or try out new experiences.\",\n",
        "        \"example\": \"She was feeling adventurous and decided to try skydiving.\"\n",
        "    },\n",
        "    \"daring\": {\n",
        "        \"meaning\": \"Willing to take bold risks.\",\n",
        "        \"example\": \"His daring escape from the prison was legendary.\"\n",
        "    },\n",
        "    \"fascination\": {\n",
        "        \"meaning\": \"A strong interest or attraction.\",\n",
        "        \"example\": \"Her fascination with ancient history led her to become an archaeologist.\"\n",
        "    },\n",
        "    \"lore\": {\n",
        "        \"meaning\": \"Traditional knowledge or stories passed down through generations.\",\n",
        "        \"example\": \"The old man shared the lore of the village with the children.\"\n",
        "    },\n",
        "    \"expedition\": {\n",
        "        \"meaning\": \"A journey undertaken for a specific purpose, often exploration.\",\n",
        "        \"example\": \"The expedition to the North Pole was a great success.\"\n",
        "    },\n",
        "    \"landmark\": {\n",
        "        \"meaning\": \"An object or structure that serves as a point of reference.\",\n",
        "        \"example\": \"The Eiffel Tower is one of Paris's most famous landmarks.\"\n",
        "    },\n",
        "    \"trekked\": {\n",
        "        \"meaning\": \"Made a long and difficult journey, especially on foot.\",\n",
        "        \"example\": \"They trekked through the jungle for three days.\"\n",
        "    },\n",
        "    \"dense\": {\n",
        "        \"meaning\": \"Thick and hard to see through.\",\n",
        "        \"example\": \"The dense fog made driving very difficult.\"\n",
        "    },\n",
        "    \"navigated\": {\n",
        "        \"meaning\": \"Planned and directed the course of a journey.\",\n",
        "        \"example\": \"The captain skillfully navigated the ship through the storm.\"\n",
        "    },\n",
        "    \"tricky\": {\n",
        "        \"meaning\": \"Difficult to deal with or handle.\",\n",
        "        \"example\": \"The tricky puzzle took hours to solve.\"\n",
        "    },\n",
        "    \"magnificent\": {\n",
        "        \"meaning\": \"Extremely beautiful or impressive.\",\n",
        "        \"example\": \"The view from the mountain top was magnificent.\"\n",
        "    },\n",
        "    \"intricate\": {\n",
        "        \"meaning\": \"Very detailed and complicated.\",\n",
        "        \"example\": \"The intricate design on the vase was handmade.\"\n",
        "    },\n",
        "    \"stalactite\": {\n",
        "        \"meaning\": \"An icicle-shaped formation that hangs from the ceiling of a cave.\",\n",
        "        \"example\": \"The cave was filled with stalactites and stalagmites.\"\n",
        "    },\n",
        "    \"ventured\": {\n",
        "        \"meaning\": \"Went somewhere that might be dangerous.\",\n",
        "        \"example\": \"They ventured into the dark forest despite the warnings.\"\n",
        "    },\n",
        "    \"artifact\": {\n",
        "        \"meaning\": \"An object made by humans, typically of historical interest.\",\n",
        "        \"example\": \"The museum displayed artifacts from ancient Egypt.\"\n",
        "    }\n",
        "}\n",
        "\n",
        "def lookup_word(word):\n",
        "    word = word.lower()  # 단어를 소문자로 변환하여 검색\n",
        "    if word in dictionary:\n",
        "        meaning = dictionary[word][\"meaning\"]\n",
        "        example = dictionary[word][\"example\"]\n",
        "        return f\"Meaning: {meaning}\\nExample: {example}\"\n",
        "    else:\n",
        "        return \"Sorry, that word is not in the dictionary.\"\n",
        "\n",
        "# Gradio 인터페이스 설정\n",
        "iface = gr.Interface(\n",
        "    fn=lookup_word,  # 호출할 함수\n",
        "    inputs=\"text\",  # 입력 타입\n",
        "    outputs=\"text\",  # 출력 타입\n",
        "    title=\"Dictionary Lookup\",  # UI 제목\n",
        "    description=\"Enter an English word to get its meaning and an example sentence.\"  # UI 설명\n",
        ")\n",
        "\n",
        "# Gradio 인터페이스 실행\n",
        "iface.launch()\n"
      ],
      "metadata": {
        "colab": {
          "base_uri": "https://localhost:8080/",
          "height": 629
        },
        "id": "wJ_Tw6gjsILy",
        "outputId": "9697425f-19f8-4508-f07b-fa3f7abec919"
      },
      "execution_count": 5,
      "outputs": [
        {
          "output_type": "stream",
          "name": "stdout",
          "text": [
            "Setting queue=True in a Colab notebook requires sharing enabled. Setting `share=True` (you can turn this off by setting `share=False` in `launch()` explicitly).\n",
            "\n",
            "Colab notebook detected. To show errors in colab notebook, set debug=True in launch()\n",
            "Running on public URL: https://c54ebe937fc763a879.gradio.live\n",
            "\n",
            "This share link expires in 72 hours. For free permanent hosting and GPU upgrades, run `gradio deploy` from Terminal to deploy to Spaces (https://huggingface.co/spaces)\n"
          ]
        },
        {
          "output_type": "display_data",
          "data": {
            "text/plain": [
              "<IPython.core.display.HTML object>"
            ],
            "text/html": [
              "<div><iframe src=\"https://c54ebe937fc763a879.gradio.live\" width=\"100%\" height=\"500\" allow=\"autoplay; camera; microphone; clipboard-read; clipboard-write;\" frameborder=\"0\" allowfullscreen></iframe></div>"
            ]
          },
          "metadata": {}
        },
        {
          "output_type": "execute_result",
          "data": {
            "text/plain": []
          },
          "metadata": {},
          "execution_count": 5
        }
      ]
    }
  ]
}