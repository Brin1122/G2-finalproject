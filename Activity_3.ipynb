{
  "nbformat": 4,
  "nbformat_minor": 0,
  "metadata": {
    "colab": {
      "provenance": [],
      "authorship_tag": "ABX9TyPq4sNxKLIwvd5ge7a4G734",
      "include_colab_link": true
    },
    "kernelspec": {
      "name": "python3",
      "display_name": "Python 3"
    },
    "language_info": {
      "name": "python"
    }
  },
  "cells": [
    {
      "cell_type": "markdown",
      "metadata": {
        "id": "view-in-github",
        "colab_type": "text"
      },
      "source": [
        "<a href=\"https://colab.research.google.com/github/Brin1122/G2-finalproject/blob/main/Activity_3.ipynb\" target=\"_parent\"><img src=\"https://colab.research.google.com/assets/colab-badge.svg\" alt=\"Open In Colab\"/></a>"
      ]
    },
    {
      "cell_type": "code",
      "source": [
        "%%capture\n",
        "!pip install gradio"
      ],
      "metadata": {
        "id": "dXk-yPjxsAB_"
      },
      "execution_count": 2,
      "outputs": []
    },
    {
      "cell_type": "code",
      "source": [
        "import gradio as gr\n",
        "import requests\n",
        "\n",
        "# 외부 URL에서 텍스트 가져오기\n",
        "url = \"https://raw.githubusercontent.com/MK316/Spring2024/main/DLTESOL/project/story02.txt\"\n",
        "story = requests.get(url).text\n",
        "\n",
        "# 퀴즈 질문 정의\n",
        "questions = [\n",
        "    {\"question\": \"1. Nestled among towering peaks, the village was said ______ by the 'Guardian of the Glen,' a massive eagle that supposedly watched over the villagers from its perch high in the mountains.\", \"options\": [\"to protect\", \"to be protected\", \"to being protected\"], \"answer\": \"to be protected\"},\n",
        "    {\"question\": \"2. He had a particular fascination with the old maps and tales of hidden treasures that ______ in the mountains centuries ago.\", \"options\": [\"had been lost\", \"had lost\", \"had being lost\"], \"answer\": \"had been lost\"},\n",
        "    {\"question\": \"3. What is not a synonym for extensively?\", \"options\": [\"widely\", \"narrowly\", \"largeky\"], \"answer\": \"narrowly\"},\n",
        "    {\"question\": \"4. What is a synonym for magnificent?\", \"options\": [\"uninspiring\", \"splendid\", \"modest\"], \"answer\": \"splendid\"},\n",
        "    {\"question\": \"5. What is the antonym of intricate?\", \"options\": [\"complex\", \" complicated\", \"straightforward\"], \"answer\": \"straightforward\"},\n",
        "    {\"question\": \"6. The cave was more magnificent than they ______, filled with intricate stalactites and echoes of dripping water.\", \"options\": [\"had imagined\", \"imagined\", \"had been imagined\"], \"answer\": \"had imagined\"},\n",
        "    {\"question\": \"7. Where did the children donate the artifacts?\", \"options\": [\"a local museum\", \"a national museum\", \"the Archaeological Association\"], \"answer\": \"a local museum\"},\n",
        "    {\"question\": \"8. What is the supposed guardian of Glen?\", \"options\": [\"Tiger\", \"Eagle\", \"Dragon\"], \"answer\": \"Eagle\"}\n",
        "]\n",
        "# 퀴즈 함수\n",
        "def quiz(*answers):\n",
        "    score = 0\n",
        "    incorrect = []\n",
        "    for i, question in enumerate(questions):\n",
        "        if answers[i] == question[\"answer\"]:\n",
        "            score += 1\n",
        "        else:\n",
        "            incorrect.append(f\"Question {i+1}: Correct answer is {question['answer']}\")\n",
        "    results = \"\\n\".join(incorrect)\n",
        "    return score, results\n",
        "\n",
        "# Gradio 인터페이스 설정\n",
        "story_display = gr.Markdown(story)\n",
        "inputs = [gr.Radio(label=q[\"question\"], choices=q[\"options\"], type=\"value\") for q in questions]\n",
        "outputs = [gr.Textbox(label=\"Score\"), gr.Textbox(label=\"Incorrect Answers\")]\n",
        "\n",
        "iface = gr.Interface(\n",
        "    fn=quiz,\n",
        "    inputs=inputs,\n",
        "    outputs=outputs,\n",
        "    description=\"Comprehension Quiz for 'The Guardian's Secret'\",\n",
        "    title=\"The Guardian's Secret Quiz\",\n",
        "    theme=\"default\",\n",
        "    allow_flagging=\"never\"\n",
        ")\n",
        "\n",
        "iface.launch(share=True)"
      ],
      "metadata": {
        "colab": {
          "base_uri": "https://localhost:8080/",
          "height": 593
        },
        "id": "bp_f-9i9w4W4",
        "outputId": "fb1c8006-6f55-4f40-a053-1aa29369c40b"
      },
      "execution_count": 6,
      "outputs": [
        {
          "output_type": "stream",
          "name": "stdout",
          "text": [
            "Colab notebook detected. To show errors in colab notebook, set debug=True in launch()\n",
            "Running on public URL: https://ce1183eacd704e7c95.gradio.live\n",
            "\n",
            "This share link expires in 72 hours. For free permanent hosting and GPU upgrades, run `gradio deploy` from Terminal to deploy to Spaces (https://huggingface.co/spaces)\n"
          ]
        },
        {
          "output_type": "display_data",
          "data": {
            "text/plain": [
              "<IPython.core.display.HTML object>"
            ],
            "text/html": [
              "<div><iframe src=\"https://ce1183eacd704e7c95.gradio.live\" width=\"100%\" height=\"500\" allow=\"autoplay; camera; microphone; clipboard-read; clipboard-write;\" frameborder=\"0\" allowfullscreen></iframe></div>"
            ]
          },
          "metadata": {}
        },
        {
          "output_type": "execute_result",
          "data": {
            "text/plain": []
          },
          "metadata": {},
          "execution_count": 6
        }
      ]
    }
  ]
}